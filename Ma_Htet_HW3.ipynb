{
 "cells": [
  {
   "cell_type": "markdown",
   "metadata": {},
   "source": [
    "<center><h1>Ma_Htet_HW3</h1></center>\n",
    "<br>\n",
    "<br>"
   ]
  },
  {
   "cell_type": "markdown",
   "metadata": {},
   "source": [
    "Name: Htet Ma\n",
    "<br>\n",
    "Github Username: hswma\n",
    "<br>\n",
    "USC ID: 4522446617"
   ]
  },
  {
   "cell_type": "markdown",
   "metadata": {},
   "source": [
    "## 1. Time Series Classification Part 1: Feature Creation/Extraction"
   ]
  },
  {
   "cell_type": "markdown",
   "metadata": {},
   "source": [
    "### (a) Download Data"
   ]
  },
  {
   "cell_type": "markdown",
   "metadata": {},
   "source": [
    "Package imports"
   ]
  },
  {
   "cell_type": "code",
   "execution_count": 1,
   "metadata": {},
   "outputs": [],
   "source": [
    "import pandas as pd\n",
    "import numpy as np\n",
    "import matplotlib.pyplot as plt\n",
    "import seaborn as sns\n",
    "import os\n",
    "import glob\n",
    "from bootstrapped import bootstrap as bs\n",
    "from bootstrapped import stats_functions as bs_stats\n",
    "\n",
    "os.chdir('../data/AReM')"
   ]
  },
  {
   "cell_type": "markdown",
   "metadata": {},
   "source": [
    "Get the AReM Data Set"
   ]
  },
  {
   "cell_type": "code",
   "execution_count": 2,
   "metadata": {
    "scrolled": true
   },
   "outputs": [],
   "source": [
    "bend1_files = glob.glob('bending1/*.csv')\n",
    "df_bend1 = []\n",
    "for i in bend1_files:\n",
    "#     print(i)\n",
    "    df = pd.read_csv(i, skiprows=4, engine ='python')\n",
    "    df_bend1.append(df)\n",
    "\n",
    "bend2_files = glob.glob('bending2/*.csv')\n",
    "df_bend2 = []\n",
    "for i in bend2_files:\n",
    "#     print(i)\n",
    "    df = pd.read_csv(i, skiprows=4, engine ='python')\n",
    "    df_bend2.append(df)\n",
    "\n",
    "cycle_files = glob.glob('cycling/*.csv')\n",
    "df_cycle = []\n",
    "for i in cycle_files:\n",
    "#     print(i)\n",
    "    df = pd.read_csv(i, skiprows=4, engine ='python')\n",
    "    df_cycle.append(df)\n",
    "    \n",
    "lie_files = glob.glob('lying/*.csv')\n",
    "df_lie = []\n",
    "for i in lie_files:\n",
    "#     print(i)\n",
    "    df = pd.read_csv(i, skiprows=4, engine ='python')\n",
    "    df_lie.append(df)\n",
    "    \n",
    "sit_files = glob.glob('sitting/*.csv')\n",
    "df_sit = []\n",
    "for i in sit_files:\n",
    "#     print(i)\n",
    "    df = pd.read_csv(i, skiprows=4, engine ='python')\n",
    "    df_sit.append(df)\n",
    "    \n",
    "stand_files = glob.glob('standing/*.csv')\n",
    "df_stand = []\n",
    "for i in stand_files:\n",
    "#     print(i)\n",
    "    df = pd.read_csv(i, skiprows=4, engine ='python')\n",
    "    df_stand.append(df)\n",
    "    \n",
    "walk_files = glob.glob('walking/*.csv')\n",
    "df_walk = []\n",
    "for i in walk_files:\n",
    "#     print(i)\n",
    "    df = pd.read_csv(i, skiprows=4, engine ='python')\n",
    "    df_walk.append(df)"
   ]
  },
  {
   "cell_type": "markdown",
   "metadata": {},
   "source": [
    "### (b) Test and Train Data"
   ]
  },
  {
   "cell_type": "code",
   "execution_count": 3,
   "metadata": {},
   "outputs": [],
   "source": [
    "# test data\n",
    "bend1_test = df_bend1[0:2]\n",
    "bend2_test = df_bend2[0:2]\n",
    "cycle_test = [df_cycle[0], df_cycle[7], df_cycle[8]]\n",
    "lie_test = [df_lie[0], df_lie[7], df_lie[8]]\n",
    "sit_test = [df_sit[0], df_sit[7], df_sit[8]]\n",
    "stand_test = [df_stand[0], df_stand[7], df_stand[8]]\n",
    "walk_test = [df_walk[0], df_walk[7], df_walk[8]]\n",
    "\n",
    "# train data\n",
    "bend1_train = df_bend1[2::]\n",
    "bend2_train = df_bend2[2::]\n",
    "cycle_train = df_cycle[1:7] + df_cycle[9::]\n",
    "lie_train = df_lie[1:7] + df_lie[9::]\n",
    "sit_train = df_sit[1:7] + df_sit[9::]\n",
    "stand_train = df_stand[1:7] + df_stand[9::]\n",
    "walk_train = df_walk[1:7] + df_walk[9::]"
   ]
  },
  {
   "cell_type": "markdown",
   "metadata": {},
   "source": [
    "### (c) Feature Extraction"
   ]
  },
  {
   "cell_type": "markdown",
   "metadata": {
    "tags": []
   },
   "source": [
    "#### i. Research"
   ]
  },
  {
   "cell_type": "markdown",
   "metadata": {},
   "source": [
    "In time series classifications, the types of time-domain features used are mean, standard deviation, maximum, minimum, range, percentile, skewness, kurtosis, autocorrelation, wavelet coefficients, entropy, energy, and zero-crossing rate.\n",
    "\n",
    "Reference: https://stats.stackexchange.com/questions/50807/features-for-time-series-classification"
   ]
  },
  {
   "cell_type": "markdown",
   "metadata": {
    "tags": []
   },
   "source": [
    "#### ii. Extraction"
   ]
  },
  {
   "cell_type": "code",
   "execution_count": 4,
   "metadata": {
    "scrolled": true
   },
   "outputs": [
    {
     "data": {
      "text/html": [
       "<div>\n",
       "<style scoped>\n",
       "    .dataframe tbody tr th:only-of-type {\n",
       "        vertical-align: middle;\n",
       "    }\n",
       "\n",
       "    .dataframe tbody tr th {\n",
       "        vertical-align: top;\n",
       "    }\n",
       "\n",
       "    .dataframe thead th {\n",
       "        text-align: right;\n",
       "    }\n",
       "</style>\n",
       "<table border=\"1\" class=\"dataframe\">\n",
       "  <thead>\n",
       "    <tr style=\"text-align: right;\">\n",
       "      <th></th>\n",
       "      <th>min1</th>\n",
       "      <th>max1</th>\n",
       "      <th>mean1</th>\n",
       "      <th>median1</th>\n",
       "      <th>std1</th>\n",
       "      <th>1st quart1</th>\n",
       "      <th>3rd quart1</th>\n",
       "      <th>min2</th>\n",
       "      <th>max2</th>\n",
       "      <th>mean2</th>\n",
       "      <th>...</th>\n",
       "      <th>std5</th>\n",
       "      <th>1st quart5</th>\n",
       "      <th>3rd quart5</th>\n",
       "      <th>min6</th>\n",
       "      <th>max6</th>\n",
       "      <th>mean6</th>\n",
       "      <th>median6</th>\n",
       "      <th>std6</th>\n",
       "      <th>1st quart6</th>\n",
       "      <th>3rd quart6</th>\n",
       "    </tr>\n",
       "  </thead>\n",
       "  <tbody>\n",
       "    <tr>\n",
       "      <th>0</th>\n",
       "      <td>37.25</td>\n",
       "      <td>45.00</td>\n",
       "      <td>40.624792</td>\n",
       "      <td>40.500</td>\n",
       "      <td>1.476967</td>\n",
       "      <td>39.2500</td>\n",
       "      <td>42.0000</td>\n",
       "      <td>0.0</td>\n",
       "      <td>1.30</td>\n",
       "      <td>0.358604</td>\n",
       "      <td>...</td>\n",
       "      <td>2.188449</td>\n",
       "      <td>33.0000</td>\n",
       "      <td>36.00</td>\n",
       "      <td>0.0</td>\n",
       "      <td>1.92</td>\n",
       "      <td>0.570583</td>\n",
       "      <td>0.430</td>\n",
       "      <td>0.582915</td>\n",
       "      <td>0.00</td>\n",
       "      <td>1.3000</td>\n",
       "    </tr>\n",
       "    <tr>\n",
       "      <th>1</th>\n",
       "      <td>38.00</td>\n",
       "      <td>45.67</td>\n",
       "      <td>42.812812</td>\n",
       "      <td>42.500</td>\n",
       "      <td>1.435550</td>\n",
       "      <td>42.0000</td>\n",
       "      <td>43.6700</td>\n",
       "      <td>0.0</td>\n",
       "      <td>1.22</td>\n",
       "      <td>0.372438</td>\n",
       "      <td>...</td>\n",
       "      <td>1.995255</td>\n",
       "      <td>32.0000</td>\n",
       "      <td>34.50</td>\n",
       "      <td>0.0</td>\n",
       "      <td>3.11</td>\n",
       "      <td>0.571083</td>\n",
       "      <td>0.430</td>\n",
       "      <td>0.601010</td>\n",
       "      <td>0.00</td>\n",
       "      <td>1.3000</td>\n",
       "    </tr>\n",
       "    <tr>\n",
       "      <th>2</th>\n",
       "      <td>12.75</td>\n",
       "      <td>51.00</td>\n",
       "      <td>24.562958</td>\n",
       "      <td>24.250</td>\n",
       "      <td>3.737514</td>\n",
       "      <td>23.1875</td>\n",
       "      <td>26.5000</td>\n",
       "      <td>0.0</td>\n",
       "      <td>6.87</td>\n",
       "      <td>0.590833</td>\n",
       "      <td>...</td>\n",
       "      <td>3.693786</td>\n",
       "      <td>20.5000</td>\n",
       "      <td>27.00</td>\n",
       "      <td>0.0</td>\n",
       "      <td>4.97</td>\n",
       "      <td>0.700188</td>\n",
       "      <td>0.500</td>\n",
       "      <td>0.693720</td>\n",
       "      <td>0.43</td>\n",
       "      <td>0.8700</td>\n",
       "    </tr>\n",
       "    <tr>\n",
       "      <th>3</th>\n",
       "      <td>0.00</td>\n",
       "      <td>42.75</td>\n",
       "      <td>27.464604</td>\n",
       "      <td>28.000</td>\n",
       "      <td>3.583582</td>\n",
       "      <td>25.5000</td>\n",
       "      <td>30.0000</td>\n",
       "      <td>0.0</td>\n",
       "      <td>7.76</td>\n",
       "      <td>0.449708</td>\n",
       "      <td>...</td>\n",
       "      <td>5.053642</td>\n",
       "      <td>15.0000</td>\n",
       "      <td>20.75</td>\n",
       "      <td>0.0</td>\n",
       "      <td>6.76</td>\n",
       "      <td>1.122125</td>\n",
       "      <td>0.830</td>\n",
       "      <td>1.012342</td>\n",
       "      <td>0.47</td>\n",
       "      <td>1.3000</td>\n",
       "    </tr>\n",
       "    <tr>\n",
       "      <th>4</th>\n",
       "      <td>24.25</td>\n",
       "      <td>45.00</td>\n",
       "      <td>37.177042</td>\n",
       "      <td>36.250</td>\n",
       "      <td>3.581301</td>\n",
       "      <td>34.5000</td>\n",
       "      <td>40.2500</td>\n",
       "      <td>0.0</td>\n",
       "      <td>8.58</td>\n",
       "      <td>2.374208</td>\n",
       "      <td>...</td>\n",
       "      <td>2.890347</td>\n",
       "      <td>17.9500</td>\n",
       "      <td>21.75</td>\n",
       "      <td>0.0</td>\n",
       "      <td>9.34</td>\n",
       "      <td>2.921729</td>\n",
       "      <td>2.500</td>\n",
       "      <td>1.852600</td>\n",
       "      <td>1.50</td>\n",
       "      <td>3.9000</td>\n",
       "    </tr>\n",
       "    <tr>\n",
       "      <th>...</th>\n",
       "      <td>...</td>\n",
       "      <td>...</td>\n",
       "      <td>...</td>\n",
       "      <td>...</td>\n",
       "      <td>...</td>\n",
       "      <td>...</td>\n",
       "      <td>...</td>\n",
       "      <td>...</td>\n",
       "      <td>...</td>\n",
       "      <td>...</td>\n",
       "      <td>...</td>\n",
       "      <td>...</td>\n",
       "      <td>...</td>\n",
       "      <td>...</td>\n",
       "      <td>...</td>\n",
       "      <td>...</td>\n",
       "      <td>...</td>\n",
       "      <td>...</td>\n",
       "      <td>...</td>\n",
       "      <td>...</td>\n",
       "      <td>...</td>\n",
       "    </tr>\n",
       "    <tr>\n",
       "      <th>64</th>\n",
       "      <td>20.75</td>\n",
       "      <td>46.25</td>\n",
       "      <td>34.763333</td>\n",
       "      <td>35.290</td>\n",
       "      <td>4.742208</td>\n",
       "      <td>31.6700</td>\n",
       "      <td>38.2500</td>\n",
       "      <td>0.0</td>\n",
       "      <td>12.68</td>\n",
       "      <td>4.223792</td>\n",
       "      <td>...</td>\n",
       "      <td>3.174681</td>\n",
       "      <td>14.2500</td>\n",
       "      <td>18.33</td>\n",
       "      <td>0.0</td>\n",
       "      <td>9.39</td>\n",
       "      <td>3.288271</td>\n",
       "      <td>3.270</td>\n",
       "      <td>1.647528</td>\n",
       "      <td>2.05</td>\n",
       "      <td>4.3050</td>\n",
       "    </tr>\n",
       "    <tr>\n",
       "      <th>65</th>\n",
       "      <td>21.50</td>\n",
       "      <td>51.00</td>\n",
       "      <td>34.935813</td>\n",
       "      <td>35.500</td>\n",
       "      <td>4.645944</td>\n",
       "      <td>32.0000</td>\n",
       "      <td>38.0625</td>\n",
       "      <td>0.0</td>\n",
       "      <td>12.21</td>\n",
       "      <td>4.115750</td>\n",
       "      <td>...</td>\n",
       "      <td>3.192058</td>\n",
       "      <td>14.2375</td>\n",
       "      <td>18.25</td>\n",
       "      <td>0.0</td>\n",
       "      <td>10.21</td>\n",
       "      <td>3.280021</td>\n",
       "      <td>3.015</td>\n",
       "      <td>1.700918</td>\n",
       "      <td>2.12</td>\n",
       "      <td>4.5000</td>\n",
       "    </tr>\n",
       "    <tr>\n",
       "      <th>66</th>\n",
       "      <td>18.33</td>\n",
       "      <td>47.67</td>\n",
       "      <td>34.333042</td>\n",
       "      <td>34.750</td>\n",
       "      <td>4.948770</td>\n",
       "      <td>31.2500</td>\n",
       "      <td>38.0000</td>\n",
       "      <td>0.0</td>\n",
       "      <td>12.48</td>\n",
       "      <td>4.396958</td>\n",
       "      <td>...</td>\n",
       "      <td>3.000493</td>\n",
       "      <td>13.7500</td>\n",
       "      <td>18.00</td>\n",
       "      <td>0.0</td>\n",
       "      <td>8.01</td>\n",
       "      <td>3.261583</td>\n",
       "      <td>2.980</td>\n",
       "      <td>1.617290</td>\n",
       "      <td>2.05</td>\n",
       "      <td>4.3200</td>\n",
       "    </tr>\n",
       "    <tr>\n",
       "      <th>67</th>\n",
       "      <td>18.33</td>\n",
       "      <td>45.75</td>\n",
       "      <td>34.599875</td>\n",
       "      <td>35.125</td>\n",
       "      <td>4.731790</td>\n",
       "      <td>31.5000</td>\n",
       "      <td>38.0000</td>\n",
       "      <td>0.0</td>\n",
       "      <td>15.37</td>\n",
       "      <td>4.398833</td>\n",
       "      <td>...</td>\n",
       "      <td>2.905688</td>\n",
       "      <td>14.0000</td>\n",
       "      <td>18.25</td>\n",
       "      <td>0.0</td>\n",
       "      <td>8.86</td>\n",
       "      <td>3.289542</td>\n",
       "      <td>3.015</td>\n",
       "      <td>1.680170</td>\n",
       "      <td>2.12</td>\n",
       "      <td>4.2600</td>\n",
       "    </tr>\n",
       "    <tr>\n",
       "      <th>68</th>\n",
       "      <td>15.50</td>\n",
       "      <td>43.67</td>\n",
       "      <td>34.225875</td>\n",
       "      <td>34.750</td>\n",
       "      <td>4.441798</td>\n",
       "      <td>31.2500</td>\n",
       "      <td>37.2500</td>\n",
       "      <td>0.0</td>\n",
       "      <td>17.24</td>\n",
       "      <td>4.354500</td>\n",
       "      <td>...</td>\n",
       "      <td>2.992920</td>\n",
       "      <td>14.3300</td>\n",
       "      <td>18.25</td>\n",
       "      <td>0.0</td>\n",
       "      <td>9.42</td>\n",
       "      <td>3.479542</td>\n",
       "      <td>3.270</td>\n",
       "      <td>1.761146</td>\n",
       "      <td>2.24</td>\n",
       "      <td>4.5375</td>\n",
       "    </tr>\n",
       "  </tbody>\n",
       "</table>\n",
       "<p>88 rows × 42 columns</p>\n",
       "</div>"
      ],
      "text/plain": [
       "     min1   max1      mean1  median1      std1  1st quart1  3rd quart1  min2  \\\n",
       "0   37.25  45.00  40.624792   40.500  1.476967     39.2500     42.0000   0.0   \n",
       "1   38.00  45.67  42.812812   42.500  1.435550     42.0000     43.6700   0.0   \n",
       "2   12.75  51.00  24.562958   24.250  3.737514     23.1875     26.5000   0.0   \n",
       "3    0.00  42.75  27.464604   28.000  3.583582     25.5000     30.0000   0.0   \n",
       "4   24.25  45.00  37.177042   36.250  3.581301     34.5000     40.2500   0.0   \n",
       "..    ...    ...        ...      ...       ...         ...         ...   ...   \n",
       "64  20.75  46.25  34.763333   35.290  4.742208     31.6700     38.2500   0.0   \n",
       "65  21.50  51.00  34.935813   35.500  4.645944     32.0000     38.0625   0.0   \n",
       "66  18.33  47.67  34.333042   34.750  4.948770     31.2500     38.0000   0.0   \n",
       "67  18.33  45.75  34.599875   35.125  4.731790     31.5000     38.0000   0.0   \n",
       "68  15.50  43.67  34.225875   34.750  4.441798     31.2500     37.2500   0.0   \n",
       "\n",
       "     max2     mean2  ...      std5  1st quart5  3rd quart5  min6   max6  \\\n",
       "0    1.30  0.358604  ...  2.188449     33.0000       36.00   0.0   1.92   \n",
       "1    1.22  0.372438  ...  1.995255     32.0000       34.50   0.0   3.11   \n",
       "2    6.87  0.590833  ...  3.693786     20.5000       27.00   0.0   4.97   \n",
       "3    7.76  0.449708  ...  5.053642     15.0000       20.75   0.0   6.76   \n",
       "4    8.58  2.374208  ...  2.890347     17.9500       21.75   0.0   9.34   \n",
       "..    ...       ...  ...       ...         ...         ...   ...    ...   \n",
       "64  12.68  4.223792  ...  3.174681     14.2500       18.33   0.0   9.39   \n",
       "65  12.21  4.115750  ...  3.192058     14.2375       18.25   0.0  10.21   \n",
       "66  12.48  4.396958  ...  3.000493     13.7500       18.00   0.0   8.01   \n",
       "67  15.37  4.398833  ...  2.905688     14.0000       18.25   0.0   8.86   \n",
       "68  17.24  4.354500  ...  2.992920     14.3300       18.25   0.0   9.42   \n",
       "\n",
       "       mean6  median6      std6  1st quart6  3rd quart6  \n",
       "0   0.570583    0.430  0.582915        0.00      1.3000  \n",
       "1   0.571083    0.430  0.601010        0.00      1.3000  \n",
       "2   0.700188    0.500  0.693720        0.43      0.8700  \n",
       "3   1.122125    0.830  1.012342        0.47      1.3000  \n",
       "4   2.921729    2.500  1.852600        1.50      3.9000  \n",
       "..       ...      ...       ...         ...         ...  \n",
       "64  3.288271    3.270  1.647528        2.05      4.3050  \n",
       "65  3.280021    3.015  1.700918        2.12      4.5000  \n",
       "66  3.261583    2.980  1.617290        2.05      4.3200  \n",
       "67  3.289542    3.015  1.680170        2.12      4.2600  \n",
       "68  3.479542    3.270  1.761146        2.24      4.5375  \n",
       "\n",
       "[88 rows x 42 columns]"
      ]
     },
     "execution_count": 4,
     "metadata": {},
     "output_type": "execute_result"
    }
   ],
   "source": [
    "df_test = bend1_test + bend2_test + cycle_test + lie_test + sit_test + stand_test + walk_test\n",
    "df_train = bend1_train + bend2_train + cycle_train + lie_train + sit_train + stand_train + walk_train\n",
    "iitest_tdfeatures = []\n",
    "\n",
    "for i, df in enumerate(df_test):\n",
    "    df = df.iloc[:,1:]\n",
    "    iimin = df.min()\n",
    "    iimax = df.max()\n",
    "    iimean = df.mean()\n",
    "    iimed = df.median()\n",
    "    iistd = df.std()\n",
    "    iiqrt1 = df.quantile(q=0.25)\n",
    "    iiqrt3 = df.quantile(q=0.75)\n",
    "    tdfeatures = pd.concat([iimin, iimax, iimean, iimed, iistd, iiqrt1, iiqrt3], axis=1)\n",
    "    iifeatures1file = tdfeatures.values.ravel()\n",
    "    iitest_tdfeatures.append(iifeatures1file)\n",
    "\n",
    "iidftest_tdfeatures = pd.DataFrame(iitest_tdfeatures)\n",
    "iidftest_tdfeatures.columns = ['min1', 'max1', 'mean1', 'median1', 'std1', '1st quart1', '3rd quart1', 'min2', 'max2', 'mean2',\n",
    "                               'median2', 'std2', '1st quart2', '3rd quart2', 'min3', 'max3', 'mean3', 'median3', 'std3',\n",
    "                               '1st quart3', '3rd quart3', 'min4', 'max4', 'mean4', 'median4', 'std4', '1st quart4',\n",
    "                               '3rd quart4', 'min5', 'max5', 'mean5', 'median5', 'std5', '1st quart5', '3rd quart5',\n",
    "                               'min6', 'max6', 'mean6', 'median6', 'std6', '1st quart6', '3rd quart6']\n",
    "iitrain_tdfeatures = []\n",
    "for i, df in enumerate(df_train):\n",
    "    df = df.iloc[:,1:]\n",
    "    iimin = df.min()\n",
    "    iimax = df.max()\n",
    "    iimean = df.mean()\n",
    "    iimed = df.median()\n",
    "    iistd = df.std()\n",
    "    iiqrt1 = df.quantile(q=0.25)\n",
    "    iiqrt3 = df.quantile(q=0.75)\n",
    "    tdfeatures = pd.concat([iimin, iimax, iimean, iimed, iistd, iiqrt1, iiqrt3], axis=1)\n",
    "    iifeatures1file = tdfeatures.values.ravel()\n",
    "    iitrain_tdfeatures.append(iifeatures1file)\n",
    "\n",
    "iidftrain_tdfeatures = pd.DataFrame(iitrain_tdfeatures)\n",
    "iidftrain_tdfeatures.columns = ['min1', 'max1', 'mean1', 'median1', 'std1', '1st quart1', '3rd quart1', 'min2', 'max2', 'mean2',\n",
    "                               'median2', 'std2', '1st quart2', '3rd quart2', 'min3', 'max3', 'mean3', 'median3', 'std3',\n",
    "                               '1st quart3', '3rd quart3', 'min4', 'max4', 'mean4', 'median4', 'std4', '1st quart4',\n",
    "                               '3rd quart4', 'min5', 'max5', 'mean5', 'median5', 'std5', '1st quart5', '3rd quart5',\n",
    "                               'min6', 'max6', 'mean6', 'median6', 'std6', '1st quart6', '3rd quart6']\n",
    "\n",
    "alldata = pd.concat([iidftest_tdfeatures, iidftrain_tdfeatures])\n",
    "alldata"
   ]
  },
  {
   "cell_type": "markdown",
   "metadata": {
    "tags": []
   },
   "source": [
    "#### iii. Standard Deviation"
   ]
  },
  {
   "cell_type": "code",
   "execution_count": 5,
   "metadata": {
    "scrolled": true
   },
   "outputs": [
    {
     "name": "stdout",
     "output_type": "stream",
     "text": [
      "[9.515445066931841    (8.340414445441464, 10.8227854015807), 4.36932238296287    (3.479455729132699, 5.429279342003662), 5.305314461239687    (4.768175751316526, 5.927324961919087), 5.409056425357996    (4.8564856847177795, 6.038491986513897), 1.7620555751491025    (1.580695719899247, 1.9605148570330153), 6.118526249454473    (5.622463791346735, 6.6885817655622155), 5.109642753365407    (4.410940277834163, 5.926694033639538), 0.0    (0.0, 0.0), 5.033881679163114    (4.696485217843226, 5.474920414201155), 1.565194252074566    (1.4357298960166396, 1.7453910406138882), 1.4041971241720508    (1.273807078858977, 1.5776419700435198), 0.8790677991268445    (0.8212025477792589, 0.9578228499124238), 0.9409936333203218    (0.8524178428465425, 1.0555851322225582), 2.1131565277371136    (1.9441945420270854, 2.3490566490486575), 2.9396159844182215    (2.789429944818191, 3.139351203053483), 4.8473579111726695    (4.254550286650684, 5.540784631511394), 3.985540173028038    (3.5053456995281893, 4.591750088477074), 4.013396722341803    (3.523091449126299, 4.611304808339304), 0.9413158576967761    (0.7624960982338223, 1.123700610087241), 4.196608356067418    (3.6999002081855252, 4.784472398177908), 4.1478580691355535    (3.633321848801055, 4.7674165432469655), 0.0    (0.0, 0.0), 2.171183073234498    (1.9976173864458544, 2.3803902574313933), 1.1594695120976577    (1.103987016644189, 1.249441547763076), 1.139058054228987    (1.0834948471907657, 1.2277156545909653), 0.45563061241860064    (0.4280230132146844, 0.4921969982763577), 0.8388126951078969    (0.7914565511824192, 0.9058226170324878), 1.5436579285873873    (1.4697984591575322, 1.664371900907), 6.0891065514606755    (4.699472148901412, 7.762419508896717), 5.7085244261061385    (4.875481204306966, 6.712260815264704), 5.643253378646845    (4.590431640797484, 6.884092628353028), 5.780655201421558    (4.698757044761906, 7.051733594218567), 1.019057983708728    (0.8250246030995116, 1.228981725813994), 6.061727225339022    (4.968348311889749, 7.346646087038541), 5.500200189394758    (4.504670643184772, 6.655849155113645), 0.045576965827593074    (0.013124961748951336, 0.09115393165518615), 2.50456803477282    (2.258399527773964, 2.7729442836374765), 1.1482317454684936    (1.087237071952433, 1.24068511640948), 1.080283538057551    (1.0186964249255241, 1.1699847033663269), 0.5146680632623812    (0.48747796105872476, 0.5526916203386665), 0.754261365241397    (0.7036349076647607, 0.822690357793535), 1.514917579004774    (1.4379692297063313, 1.6376255485611348)]\n"
     ]
    }
   ],
   "source": [
    "iiieststd = alldata.std()\n",
    "iiibtstrap = []\n",
    "for i in alldata:\n",
    "    df = alldata.loc[:,i]\n",
    "    btstrap = bs.bootstrap(df.to_numpy(), stat_func=bs_stats.std, alpha=0.1)\n",
    "    iiibtstrap.append(btstrap)\n",
    "\n",
    "# This is the estimate standard deviation.\n",
    "# print(iiieststd)\n",
    "\n",
    "# This is the bootstrapped method for confidence interval of standard deviation.\n",
    "print(iiibtstrap)"
   ]
  },
  {
   "cell_type": "markdown",
   "metadata": {
    "tags": []
   },
   "source": [
    "#### iv. Select Features"
   ]
  },
  {
   "cell_type": "markdown",
   "metadata": {},
   "source": [
    "The most important time-domain features are mean (reveals average point or location of data), median (robust in skew data), and standard deviations (show distribution)."
   ]
  },
  {
   "cell_type": "markdown",
   "metadata": {},
   "source": [
    "## 2. ISLR 3.7.4"
   ]
  },
  {
   "cell_type": "markdown",
   "metadata": {},
   "source": [
    "### (a) Linear Train"
   ]
  },
  {
   "cell_type": "markdown",
   "metadata": {},
   "source": [
    "The training RSS of cubic regression would be lower than that of linear regression. Supposed there are 3 points, the cubic regression would be able to fit a line connecting all the points. The linear regression would not be able to connect all 3 points."
   ]
  },
  {
   "cell_type": "markdown",
   "metadata": {},
   "source": [
    "### (b) Linear Test"
   ]
  },
  {
   "cell_type": "markdown",
   "metadata": {},
   "source": [
    "The test RSS of linear regression would be lower than that of cubic regression."
   ]
  },
  {
   "cell_type": "markdown",
   "metadata": {},
   "source": [
    "### (c) Not Linear Train"
   ]
  },
  {
   "cell_type": "markdown",
   "metadata": {},
   "source": [
    "The training RSS of cubic regression would be lower than that of linear regression. Supposed there are 3 points, the cubic regression would be able to fit a line closely related to the points, but the linear regression would not be able to fit all 3 points closely."
   ]
  },
  {
   "cell_type": "markdown",
   "metadata": {},
   "source": [
    "### (d) Not Linear Testing"
   ]
  },
  {
   "cell_type": "markdown",
   "metadata": {},
   "source": [
    "There is not enough information to tell because the true relationship is not given."
   ]
  },
  {
   "cell_type": "markdown",
   "metadata": {},
   "source": [
    "## 3. ISLR 3.7.3 - Extra Practice "
   ]
  },
  {
   "cell_type": "markdown",
   "metadata": {},
   "source": [
    "a) ii because there is a coefficient of 35.\n",
    "<br>\n",
    "b) 50+ (110* 20) + (0.07* 4.0) + 35 + (.01* (110* 4.0)) + (-10* (4.0* 1))\n",
    "<br>\n",
    "c) True"
   ]
  },
  {
   "cell_type": "markdown",
   "metadata": {},
   "source": [
    "## 3. ISLR 3.7.5 - Extra Practice "
   ]
  },
  {
   "cell_type": "markdown",
   "metadata": {},
   "source": [
    "ai' = summation from i'=1 to n of xi"
   ]
  }
 ],
 "metadata": {
  "kernelspec": {
   "display_name": "Python 3 (ipykernel)",
   "language": "python",
   "name": "python3"
  },
  "language_info": {
   "codemirror_mode": {
    "name": "ipython",
    "version": 3
   },
   "file_extension": ".py",
   "mimetype": "text/x-python",
   "name": "python",
   "nbconvert_exporter": "python",
   "pygments_lexer": "ipython3",
   "version": "3.9.12"
  },
  "toc": {
   "base_numbering": 1,
   "nav_menu": {},
   "number_sections": true,
   "sideBar": true,
   "skip_h1_title": true,
   "title_cell": "Table of Contents",
   "title_sidebar": "Contents",
   "toc_cell": false,
   "toc_position": {
    "height": "calc(100% - 180px)",
    "left": "10px",
    "top": "150px",
    "width": "294.435px"
   },
   "toc_section_display": true,
   "toc_window_display": true
  },
  "vscode": {
   "interpreter": {
    "hash": "3c20c2d94d2527936fe0f3a300eb11db30fed84423423838e2f93b74eb7aaebc"
   }
  }
 },
 "nbformat": 4,
 "nbformat_minor": 4
}
